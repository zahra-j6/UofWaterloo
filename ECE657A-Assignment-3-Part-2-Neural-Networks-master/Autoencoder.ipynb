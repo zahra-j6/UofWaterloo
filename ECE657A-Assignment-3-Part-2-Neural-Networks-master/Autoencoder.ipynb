{
 "cells": [
  {
   "cell_type": "markdown",
   "metadata": {},
   "source": [
    "# **Autoencoder**"
   ]
  },
  {
   "cell_type": "code",
   "execution_count": 15,
   "metadata": {},
   "outputs": [],
   "source": [
    "from keras.layers import Dense, Dropout, Flatten, Conv2D, MaxPooling2D, BatchNormalization, Input, UpSampling2D, GlobalAveragePooling2D\n",
    "from keras.models import Model, load_model\n",
    "from keras.optimizers import RMSprop"
   ]
  },
  {
   "cell_type": "code",
   "execution_count": 16,
   "metadata": {},
   "outputs": [
    {
     "data": {
      "text/plain": [
       "(60000, 28, 28, 1)"
      ]
     },
     "execution_count": 16,
     "metadata": {},
     "output_type": "execute_result"
    }
   ],
   "source": [
    "train_data = X.values.reshape((-1, 28, 28, 1))\n",
    "train_data.shape"
   ]
  },
  {
   "cell_type": "code",
   "execution_count": 17,
   "metadata": {},
   "outputs": [],
   "source": [
    "train_data = train_data / np.max(train_data)"
   ]
  },
  {
   "cell_type": "code",
   "execution_count": 18,
   "metadata": {},
   "outputs": [
    {
     "data": {
      "text/plain": [
       "(1.0, 1.0)"
      ]
     },
     "execution_count": 18,
     "metadata": {},
     "output_type": "execute_result"
    }
   ],
   "source": [
    "np.max(train_data), np.max(df_test)"
   ]
  },
  {
   "cell_type": "code",
   "execution_count": 19,
   "metadata": {},
   "outputs": [],
   "source": [
    "train_X,valid_X,train_ground,valid_ground = train_test_split(train_data,\n",
    "                                                             train_data, \n",
    "                                                             test_size=0.2, \n",
    "                                                             random_state=13)"
   ]
  },
  {
   "cell_type": "code",
   "execution_count": 20,
   "metadata": {},
   "outputs": [],
   "source": [
    "batch_size = 128\n",
    "epochs = 50\n",
    "inChannel = 1\n",
    "x, y = 28, 28\n",
    "input_img = Input(shape = (x, y, inChannel))"
   ]
  },
  {
   "cell_type": "code",
   "execution_count": 21,
   "metadata": {},
   "outputs": [],
   "source": [
    "def encoder(input_img):\n",
    "    #encoder\n",
    "    #input = 28 x 28 x 1 (wide and thin)\n",
    "    conv1 = Conv2D(32, (3, 3), activation='relu', padding='same')(input_img) #28 x 28 x 32\n",
    "    conv1 = BatchNormalization()(conv1)\n",
    "    conv1 = Conv2D(32, (3, 3), activation='relu', padding='same')(conv1)\n",
    "    conv1 = BatchNormalization()(conv1)\n",
    "    pool1 = MaxPooling2D(pool_size=(2, 2))(conv1) #14 x 14 x 32\n",
    "    conv2 = Conv2D(64, (3, 3), activation='relu', padding='same')(pool1) #14 x 14 x 64\n",
    "    conv2 = BatchNormalization()(conv2)\n",
    "    conv2 = Conv2D(64, (3, 3), activation='relu', padding='same')(conv2)\n",
    "    conv2 = BatchNormalization()(conv2)\n",
    "    pool2 = MaxPooling2D(pool_size=(2, 2))(conv2) #7 x 7 x 64\n",
    "    conv3 = Conv2D(128, (3, 3), activation='relu', padding='same')(pool2) #7 x 7 x 128 (small and thick)\n",
    "    conv3 = BatchNormalization()(conv3)\n",
    "    conv3 = Conv2D(128, (3, 3), activation='relu', padding='same')(conv3)\n",
    "    conv3 = BatchNormalization()(conv3)\n",
    "    conv4 = Conv2D(256, (3, 3), activation='relu', padding='same')(conv3) #7 x 7 x 256 (small and thick)\n",
    "    conv4 = BatchNormalization()(conv4)\n",
    "    conv4 = Conv2D(256, (3, 3), activation='relu', padding='same')(conv4)\n",
    "    conv4 = BatchNormalization()(conv4)\n",
    "    return conv4\n",
    "\n",
    "def decoder(conv4):    \n",
    "    #decoder\n",
    "    conv5 = Conv2D(128, (3, 3), activation='relu', padding='same')(conv4) #7 x 7 x 128\n",
    "    conv5 = BatchNormalization()(conv5)\n",
    "    conv5 = Conv2D(128, (3, 3), activation='relu', padding='same')(conv5)\n",
    "    conv5 = BatchNormalization()(conv5)\n",
    "    conv6 = Conv2D(64, (3, 3), activation='relu', padding='same')(conv5) #7 x 7 x 64\n",
    "    conv6 = BatchNormalization()(conv6)\n",
    "    conv6 = Conv2D(64, (3, 3), activation='relu', padding='same')(conv6)\n",
    "    conv6 = BatchNormalization()(conv6)\n",
    "    up1 = UpSampling2D((2,2))(conv6) #14 x 14 x 64\n",
    "    conv7 = Conv2D(32, (3, 3), activation='relu', padding='same')(up1) # 14 x 14 x 32\n",
    "    conv7 = BatchNormalization()(conv7)\n",
    "    conv7 = Conv2D(32, (3, 3), activation='relu', padding='same')(conv7)\n",
    "    conv7 = BatchNormalization()(conv7)\n",
    "    up2 = UpSampling2D((2,2))(conv7) # 28 x 28 x 32\n",
    "    decoded = Conv2D(1, (3, 3), activation='sigmoid', padding='same')(up2) # 28 x 28 x 1\n",
    "    return decoded"
   ]
  },
  {
   "cell_type": "code",
   "execution_count": 22,
   "metadata": {},
   "outputs": [],
   "source": [
    "autoencoder = Model(input_img, decoder(encoder(input_img)))\n",
    "autoencoder.compile(loss='mean_squared_error', optimizer = RMSprop())"
   ]
  },
  {
   "cell_type": "code",
   "execution_count": 23,
   "metadata": {},
   "outputs": [
    {
     "name": "stdout",
     "output_type": "stream",
     "text": [
      "Train on 48000 samples, validate on 12000 samples\n",
      "Epoch 1/20\n",
      "48000/48000 [==============================] - 607s 13ms/step - loss: 0.0260 - val_loss: 0.0299\n",
      "Epoch 2/20\n",
      "48000/48000 [==============================] - 587s 12ms/step - loss: 0.0112 - val_loss: 0.0128\n",
      "Epoch 3/20\n",
      "48000/48000 [==============================] - 579s 12ms/step - loss: 0.0085 - val_loss: 0.0100\n",
      "Epoch 4/20\n",
      "48000/48000 [==============================] - 590s 12ms/step - loss: 0.0070 - val_loss: 0.0076\n",
      "Epoch 5/20\n",
      "48000/48000 [==============================] - 596s 12ms/step - loss: 0.0063 - val_loss: 0.0070\n",
      "Epoch 6/20\n",
      "48000/48000 [==============================] - 584s 12ms/step - loss: 0.0057 - val_loss: 0.0052\n",
      "Epoch 7/20\n",
      "48000/48000 [==============================] - 595s 12ms/step - loss: 0.0053 - val_loss: 0.0068\n",
      "Epoch 8/20\n",
      "48000/48000 [==============================] - 623s 13ms/step - loss: 0.0050 - val_loss: 0.0051\n",
      "Epoch 9/20\n",
      "48000/48000 [==============================] - 597s 12ms/step - loss: 0.0049 - val_loss: 0.0046\n",
      "Epoch 10/20\n",
      "48000/48000 [==============================] - 590s 12ms/step - loss: 0.0044 - val_loss: 0.0057\n",
      "Epoch 11/20\n",
      "48000/48000 [==============================] - 584s 12ms/step - loss: 0.0041 - val_loss: 0.0038\n",
      "Epoch 12/20\n",
      "48000/48000 [==============================] - 592s 12ms/step - loss: 0.0040 - val_loss: 0.0050\n",
      "Epoch 13/20\n",
      "48000/48000 [==============================] - 584s 12ms/step - loss: 0.0038 - val_loss: 0.0050\n",
      "Epoch 14/20\n",
      "48000/48000 [==============================] - 588s 12ms/step - loss: 0.0037 - val_loss: 0.0041\n",
      "Epoch 15/20\n",
      "48000/48000 [==============================] - 598s 12ms/step - loss: 0.0035 - val_loss: 0.0048\n",
      "Epoch 16/20\n",
      "48000/48000 [==============================] - 596s 12ms/step - loss: 0.0033 - val_loss: 0.0035\n",
      "Epoch 17/20\n",
      "48000/48000 [==============================] - 591s 12ms/step - loss: 0.0032 - val_loss: 0.0038\n",
      "Epoch 18/20\n",
      "48000/48000 [==============================] - 578s 12ms/step - loss: 0.0031 - val_loss: 0.0038\n",
      "Epoch 19/20\n",
      "48000/48000 [==============================] - 585s 12ms/step - loss: 0.0029 - val_loss: 0.0051\n",
      "Epoch 20/20\n",
      "48000/48000 [==============================] - 586s 12ms/step - loss: 0.0028 - val_loss: 0.0032\n"
     ]
    }
   ],
   "source": [
    "autoencoder_train = autoencoder.fit(train_X, train_ground, batch_size=batch_size,epochs=20,verbose=1,validation_data=(valid_X, valid_ground))"
   ]
  },
  {
   "cell_type": "code",
   "execution_count": 24,
   "metadata": {},
   "outputs": [
    {
     "data": {
      "image/png": "[encoded data removed]",
      "text/plain": [
       "<Figure size 432x288 with 1 Axes>"
      ]
     },
     "metadata": {
      "needs_background": "light"
     },
     "output_type": "display_data"
    }
   ],
   "source": [
    "loss = autoencoder_train.history['loss']\n",
    "val_loss = autoencoder_train.history['val_loss']\n",
    "epochs=20\n",
    "epochs = range(epochs)\n",
    "plt.figure()\n",
    "plt.plot(epochs, loss, 'bo', label='Training loss')\n",
    "plt.plot(epochs, val_loss, 'b', label='Validation loss')\n",
    "plt.title('Training and validation loss')\n",
    "plt.legend()\n",
    "plt.show()"
   ]
  },
  {
   "cell_type": "code",
   "execution_count": 25,
   "metadata": {},
   "outputs": [
    {
     "data": {
      "text/plain": [
       "((48000, 28, 28, 1), (12000, 28, 28, 1), (48000, 5), (12000, 5))"
      ]
     },
     "execution_count": 25,
     "metadata": {},
     "output_type": "execute_result"
    }
   ],
   "source": [
    "autoencoder.save_weights('autoencoder.h5')\n",
    "x_train.shape,x_test.shape,y_train.shape,y_test.shape"
   ]
  },
  {
   "cell_type": "code",
   "execution_count": 26,
   "metadata": {},
   "outputs": [],
   "source": [
    "y_train = to_categorical(y_train)#, num_classes=5)\n",
    "y_test = to_categorical(y_test)"
   ]
  },
  {
   "cell_type": "code",
   "execution_count": 27,
   "metadata": {},
   "outputs": [],
   "source": [
    "def encoder(input_img):\n",
    "    #encoder\n",
    "    #input = 28 x 28 x 1 (wide and thin)\n",
    "    conv1 = Conv2D(32, (3, 3), activation='relu', padding='same')(input_img) #28 x 28 x 32\n",
    "    conv1 = BatchNormalization()(conv1)\n",
    "    conv1 = Conv2D(32, (3, 3), activation='relu', padding='same')(conv1)\n",
    "    conv1 = BatchNormalization()(conv1)\n",
    "    pool1 = MaxPooling2D(pool_size=(2, 2))(conv1) #14 x 14 x 32\n",
    "    conv2 = Conv2D(64, (3, 3), activation='relu', padding='same')(pool1) #14 x 14 x 64\n",
    "    conv2 = BatchNormalization()(conv2)\n",
    "    conv2 = Conv2D(64, (3, 3), activation='relu', padding='same')(conv2)\n",
    "    conv2 = BatchNormalization()(conv2)\n",
    "    pool2 = MaxPooling2D(pool_size=(2, 2))(conv2) #7 x 7 x 64\n",
    "    conv3 = Conv2D(128, (3, 3), activation='relu', padding='same')(pool2) #7 x 7 x 128 (small and thick)\n",
    "    conv3 = BatchNormalization()(conv3)\n",
    "    conv3 = Conv2D(128, (3, 3), activation='relu', padding='same')(conv3)\n",
    "    conv3 = BatchNormalization()(conv3)\n",
    "    conv4 = Conv2D(256, (3, 3), activation='relu', padding='same')(conv3) #7 x 7 x 256 (small and thick)\n",
    "    conv4 = BatchNormalization()(conv4)\n",
    "    conv4 = Conv2D(256, (3, 3), activation='relu', padding='same')(conv4)\n",
    "    conv4 = BatchNormalization()(conv4)\n",
    "    return conv4"
   ]
  },
  {
   "cell_type": "code",
   "execution_count": 28,
   "metadata": {},
   "outputs": [],
   "source": [
    "num_classes = 5\n",
    "def fc(enco):\n",
    "    flat = Flatten()(enco)\n",
    "    den = Dense(128, activation='relu')(flat)\n",
    "    out = Dense(num_classes, activation='softmax')(den)\n",
    "    return out\n",
    "encode = encoder(input_img)\n",
    "full_model = Model(input_img,fc(encode))\n",
    "for l1,l2 in zip(full_model.layers[:19],autoencoder.layers[0:19]):\n",
    "    l1.set_weights(l2.get_weights())"
   ]
  },
  {
   "cell_type": "code",
   "execution_count": 29,
   "metadata": {},
   "outputs": [
    {
     "data": {
      "text/plain": [
       "array([[[-0.062201  ,  0.17172514,  0.02384764, -0.06730332,\n",
       "         -0.02941872, -0.02597369,  0.05692665, -0.16313596,\n",
       "          0.1179063 ,  0.07437837, -0.07830938,  0.000707  ,\n",
       "         -0.01274923, -0.14409779,  0.130308  ,  0.09516284,\n",
       "         -0.06940352, -0.02359379, -0.03997309,  0.04961464,\n",
       "          0.1854151 ,  0.1974588 , -0.14609885,  0.0301242 ,\n",
       "          0.13079807, -0.21053322,  0.07154444, -0.13529411,\n",
       "          0.20681922, -0.16062474, -0.00526617,  0.16496812]],\n",
       "\n",
       "       [[-0.05396437, -0.02862735, -0.1024141 ,  0.12771541,\n",
       "          0.29083237,  0.27043656,  0.11783776,  0.01760474,\n",
       "         -0.08702166,  0.10285752,  0.04249033, -0.26008114,\n",
       "          0.02780943,  0.01949664, -0.13599993, -0.12262995,\n",
       "          0.04245888,  0.08421975, -0.08048523,  0.11051772,\n",
       "         -0.04651412, -0.10913879, -0.20299134,  0.0872888 ,\n",
       "         -0.01516748,  0.08831742, -0.07239086, -0.38020942,\n",
       "          0.05889232, -0.00430567, -0.06528945, -0.07659609]],\n",
       "\n",
       "       [[ 0.16488063,  0.14596301, -0.18241453, -0.04429125,\n",
       "         -0.16021746,  0.10543183,  0.09488085, -0.05578816,\n",
       "          0.20340744,  0.18366064,  0.0354641 , -0.20544745,\n",
       "         -0.06201068,  0.20179173, -0.17857082,  0.18444869,\n",
       "         -0.1561993 , -0.01493105, -0.03053087,  0.03660103,\n",
       "          0.04648502, -0.18145669,  0.02406849,  0.21434814,\n",
       "         -0.16777475, -0.10180517,  0.1858988 , -0.04403864,\n",
       "         -0.06534118, -0.15501773, -0.09303983, -0.2601018 ]]],\n",
       "      dtype=float32)"
      ]
     },
     "execution_count": 29,
     "metadata": {},
     "output_type": "execute_result"
    }
   ],
   "source": [
    "autoencoder.get_weights()[0][1]\n",
    "full_model.get_weights()[0][1]"
   ]
  },
  {
   "cell_type": "code",
   "execution_count": 30,
   "metadata": {},
   "outputs": [],
   "source": [
    "for layer in full_model.layers[0:19]:\n",
    "    layer.trainable = False"
   ]
  },
  {
   "cell_type": "code",
   "execution_count": 31,
   "metadata": {},
   "outputs": [
    {
     "name": "stdout",
     "output_type": "stream",
     "text": [
      "Model: \"model_2\"\n",
      "_________________________________________________________________\n",
      "Layer (type)                 Output Shape              Param #   \n",
      "=================================================================\n",
      "input_1 (InputLayer)         (None, 28, 28, 1)         0         \n",
      "_________________________________________________________________\n",
      "conv2d_16 (Conv2D)           (None, 28, 28, 32)        320       \n",
      "_________________________________________________________________\n",
      "batch_normalization_15 (Batc (None, 28, 28, 32)        128       \n",
      "_________________________________________________________________\n",
      "conv2d_17 (Conv2D)           (None, 28, 28, 32)        9248      \n",
      "_________________________________________________________________\n",
      "batch_normalization_16 (Batc (None, 28, 28, 32)        128       \n",
      "_________________________________________________________________\n",
      "max_pooling2d_3 (MaxPooling2 (None, 14, 14, 32)        0         \n",
      "_________________________________________________________________\n",
      "conv2d_18 (Conv2D)           (None, 14, 14, 64)        18496     \n",
      "_________________________________________________________________\n",
      "batch_normalization_17 (Batc (None, 14, 14, 64)        256       \n",
      "_________________________________________________________________\n",
      "conv2d_19 (Conv2D)           (None, 14, 14, 64)        36928     \n",
      "_________________________________________________________________\n",
      "batch_normalization_18 (Batc (None, 14, 14, 64)        256       \n",
      "_________________________________________________________________\n",
      "max_pooling2d_4 (MaxPooling2 (None, 7, 7, 64)          0         \n",
      "_________________________________________________________________\n",
      "conv2d_20 (Conv2D)           (None, 7, 7, 128)         73856     \n",
      "_________________________________________________________________\n",
      "batch_normalization_19 (Batc (None, 7, 7, 128)         512       \n",
      "_________________________________________________________________\n",
      "conv2d_21 (Conv2D)           (None, 7, 7, 128)         147584    \n",
      "_________________________________________________________________\n",
      "batch_normalization_20 (Batc (None, 7, 7, 128)         512       \n",
      "_________________________________________________________________\n",
      "conv2d_22 (Conv2D)           (None, 7, 7, 256)         295168    \n",
      "_________________________________________________________________\n",
      "batch_normalization_21 (Batc (None, 7, 7, 256)         1024      \n",
      "_________________________________________________________________\n",
      "conv2d_23 (Conv2D)           (None, 7, 7, 256)         590080    \n",
      "_________________________________________________________________\n",
      "batch_normalization_22 (Batc (None, 7, 7, 256)         1024      \n",
      "_________________________________________________________________\n",
      "flatten_1 (Flatten)          (None, 12544)             0         \n",
      "_________________________________________________________________\n",
      "dense_1 (Dense)              (None, 128)               1605760   \n",
      "_________________________________________________________________\n",
      "dense_2 (Dense)              (None, 5)                 645       \n",
      "=================================================================\n",
      "Total params: 2,781,925\n",
      "Trainable params: 1,606,405\n",
      "Non-trainable params: 1,175,520\n",
      "_________________________________________________________________\n"
     ]
    }
   ],
   "source": [
    "full_model.compile(loss=keras.losses.categorical_crossentropy, optimizer=keras.optimizers.Adam(),metrics=['accuracy'])\n",
    "full_model.summary()"
   ]
  },
  {
   "cell_type": "code",
   "execution_count": 38,
   "metadata": {},
   "outputs": [],
   "source": [
    "y_train, y_test = train_test_split( Y, test_size=0.2, random_state=42)\n",
    "y_train = to_categorical(y_train)\n",
    "y_test = to_categorical(y_test)"
   ]
  },
  {
   "cell_type": "code",
   "execution_count": 40,
   "metadata": {},
   "outputs": [
    {
     "name": "stdout",
     "output_type": "stream",
     "text": [
      "Train on 48000 samples, validate on 12000 samples\n",
      "Epoch 1/20\n",
      "48000/48000 [==============================] - 130s 3ms/step - loss: 0.4881 - accuracy: 0.8030 - val_loss: 0.4016 - val_accuracy: 0.8341\n",
      "Epoch 2/20\n",
      "48000/48000 [==============================] - 123s 3ms/step - loss: 0.3451 - accuracy: 0.8593 - val_loss: 0.3447 - val_accuracy: 0.8592\n",
      "Epoch 3/20\n",
      "48000/48000 [==============================] - 123s 3ms/step - loss: 0.2993 - accuracy: 0.8788 - val_loss: 0.3673 - val_accuracy: 0.8520\n",
      "Epoch 4/20\n",
      "48000/48000 [==============================] - 125s 3ms/step - loss: 0.2673 - accuracy: 0.8908 - val_loss: 0.3770 - val_accuracy: 0.8556\n",
      "Epoch 5/20\n",
      "48000/48000 [==============================] - 124s 3ms/step - loss: 0.2442 - accuracy: 0.9020 - val_loss: 0.4487 - val_accuracy: 0.8376\n",
      "Epoch 6/20\n",
      "48000/48000 [==============================] - 132s 3ms/step - loss: 0.2181 - accuracy: 0.9118 - val_loss: 0.3926 - val_accuracy: 0.8593\n",
      "Epoch 7/20\n",
      "48000/48000 [==============================] - 123s 3ms/step - loss: 0.2049 - accuracy: 0.9168 - val_loss: 0.3997 - val_accuracy: 0.8553\n",
      "Epoch 8/20\n",
      "48000/48000 [==============================] - 122s 3ms/step - loss: 0.1847 - accuracy: 0.9272 - val_loss: 0.4196 - val_accuracy: 0.8622\n",
      "Epoch 9/20\n",
      "48000/48000 [==============================] - 122s 3ms/step - loss: 0.1708 - accuracy: 0.9315 - val_loss: 0.4281 - val_accuracy: 0.8662\n",
      "Epoch 10/20\n",
      "48000/48000 [==============================] - 122s 3ms/step - loss: 0.1633 - accuracy: 0.9353 - val_loss: 0.4144 - val_accuracy: 0.8677\n",
      "Epoch 11/20\n",
      "48000/48000 [==============================] - 130s 3ms/step - loss: 0.1462 - accuracy: 0.9421 - val_loss: 0.5041 - val_accuracy: 0.8435\n",
      "Epoch 12/20\n",
      "48000/48000 [==============================] - 122s 3ms/step - loss: 0.1388 - accuracy: 0.9458 - val_loss: 0.4654 - val_accuracy: 0.8679\n",
      "Epoch 13/20\n",
      "48000/48000 [==============================] - 121s 3ms/step - loss: 0.1270 - accuracy: 0.9501 - val_loss: 0.4939 - val_accuracy: 0.8597\n",
      "Epoch 14/20\n",
      "48000/48000 [==============================] - 121s 3ms/step - loss: 0.1199 - accuracy: 0.9538 - val_loss: 0.5402 - val_accuracy: 0.8589\n",
      "Epoch 15/20\n",
      "48000/48000 [==============================] - 121s 3ms/step - loss: 0.1121 - accuracy: 0.9582 - val_loss: 0.5210 - val_accuracy: 0.8626\n",
      "Epoch 16/20\n",
      "48000/48000 [==============================] - 121s 3ms/step - loss: 0.1068 - accuracy: 0.9598 - val_loss: 0.5995 - val_accuracy: 0.8574\n",
      "Epoch 17/20\n",
      "48000/48000 [==============================] - 121s 3ms/step - loss: 0.1014 - accuracy: 0.9620 - val_loss: 0.6203 - val_accuracy: 0.8503\n",
      "Epoch 18/20\n",
      "48000/48000 [==============================] - 121s 3ms/step - loss: 0.0896 - accuracy: 0.9666 - val_loss: 0.6811 - val_accuracy: 0.8530\n",
      "Epoch 19/20\n",
      "48000/48000 [==============================] - 121s 3ms/step - loss: 0.0940 - accuracy: 0.9651 - val_loss: 0.5995 - val_accuracy: 0.8616\n",
      "Epoch 20/20\n",
      "48000/48000 [==============================] - 121s 3ms/step - loss: 0.0861 - accuracy: 0.9670 - val_loss: 0.6016 - val_accuracy: 0.8651\n"
     ]
    }
   ],
   "source": [
    "classify_train = full_model.fit(x_train, y_train, batch_size=64,epochs=20,verbose=1,validation_data=(x_test, y_test))"
   ]
  },
  {
   "cell_type": "code",
   "execution_count": 41,
   "metadata": {},
   "outputs": [
    {
     "name": "stdout",
     "output_type": "stream",
     "text": [
      "Test loss: 0.6015552995701631\n",
      "Test accuracy: 0.8650833368301392\n"
     ]
    }
   ],
   "source": [
    "test_eval = full_model.evaluate(x_test, y_test, verbose=0)\n",
    "print('Test loss:', test_eval[0])\n",
    "print('Test accuracy:', test_eval[1])"
   ]
  },
  {
   "cell_type": "code",
   "execution_count": 42,
   "metadata": {},
   "outputs": [],
   "source": [
    "predicted_classes = full_model.predict(df_test)"
   ]
  },
  {
   "cell_type": "code",
   "execution_count": 43,
   "metadata": {},
   "outputs": [
    {
     "name": "stdout",
     "output_type": "stream",
     "text": [
      "-----------------Convolutional Neural Network Report---------------\n",
      "F1 score: 0.865613892111646\n",
      "Accuracy score: 0.8650833333333333\n",
      "Confusion matrix: \n",
      " [[2184  176   19    0    0]\n",
      " [  84 2084  200   53    3]\n",
      " [  13  166 1854  301   30]\n",
      " [   0   27  149 2035  156]\n",
      " [   2   12   25  203 2224]]\n",
      "Specificity :  0.9612546125461254\n",
      "Sensitivity is 0.8650833333333333\n",
      "Recall is 0.8650833333333333\n",
      "Precision score is 0.8650833333333333\n",
      "MSE 0.18916666666666668\n",
      "MAE 0.15183333333333332\n"
     ]
    }
   ],
   "source": [
    "from sklearn import metrics\n",
    "\n",
    "cnn_pred_mnist = full_model.predict(x_test)\n",
    "cnn_pred_mnist = np.argmax(cnn_pred_mnist,axis=1)\n",
    "y_true = np.argmax(y_test,axis=1)\n",
    "\n",
    "cnn_f1_mnist = metrics.f1_score(y_true, cnn_pred_mnist, average= \"weighted\")\n",
    "cnn_accuracy_mnist = metrics.accuracy_score(y_true, cnn_pred_mnist)\n",
    "cnn_cm_mnist = metrics.confusion_matrix(y_true, cnn_pred_mnist)\n",
    "print(\"-----------------Convolutional Neural Network Report---------------\")\n",
    "print(\"F1 score: {}\".format(cnn_f1_mnist))\n",
    "print(\"Accuracy score: {}\".format(cnn_accuracy_mnist))\n",
    "print(\"Confusion matrix: \\n\", cnn_cm_mnist)\n",
    "\n",
    "\n",
    "\n",
    "specificity1 = cnn_cm_mnist[1,1]/(cnn_cm_mnist[1,0]+cnn_cm_mnist[1,1])\n",
    "print('Specificity : ', specificity1)\n",
    "from sklearn.metrics import recall_score\n",
    "print('Sensitivity is',recall_score(y_true, cnn_pred_mnist,average='micro'))\n",
    "print('Recall is',recall_score(y_true, cnn_pred_mnist,average='micro'))\n",
    "\n",
    "from sklearn.metrics import precision_score\n",
    "print('Precision score is',precision_score(y_true, cnn_pred_mnist,average='micro'))\n",
    "from sklearn.metrics import mean_squared_error\n",
    "print('MSE',mean_squared_error(y_true, cnn_pred_mnist))\n",
    "from sklearn.metrics import mean_absolute_error\n",
    "print('MAE',mean_absolute_error(y_true, cnn_pred_mnist))\n"
   ]
  },
  {
   "cell_type": "code",
   "execution_count": 44,
   "metadata": {},
   "outputs": [
    {
     "data": {
      "image/png": "[encoded data removed]",
      "text/plain": [
       "<Figure size 432x288 with 1 Axes>"
      ]
     },
     "metadata": {
      "needs_background": "light"
     },
     "output_type": "display_data"
    }
   ],
   "source": [
    "from keras.callbacks import History\n",
    "plt.plot(classify_train.history['accuracy'])\n",
    "plt.plot(classify_train.history['val_accuracy'])\n",
    "plt.title(\"Model Accuracy\")\n",
    "plt.xlabel('Epochs')\n",
    "plt.ylabel('Accuracy')\n",
    "plt.legend(['Train', 'Test'])\n",
    "plt.show()"
   ]
  },
  {
   "cell_type": "code",
   "execution_count": 45,
   "metadata": {},
   "outputs": [
    {
     "data": {
      "image/png": "[encoded data removed]",
      "text/plain": [
       "<Figure size 432x288 with 1 Axes>"
      ]
     },
     "metadata": {
      "needs_background": "light"
     },
     "output_type": "display_data"
    }
   ],
   "source": [
    "from keras.callbacks import History\n",
    "#  Visualize loss history / model loss\n",
    "plt.plot(classify_train.history['loss'])\n",
    "plt.plot(classify_train.history['val_loss'])\n",
    "plt.title(\"Training Epoch vs. Loss\")\n",
    "plt.xlabel('Epochs')\n",
    "plt.ylabel('Loss')\n",
    "plt.legend(['Train', 'Test'])\n",
    "plt.show()"
   ]
  }
 ],
 "metadata": {
  "kernelspec": {
   "display_name": "Python 3",
   "language": "python",
   "name": "python3"
  },
  "language_info": {
   "codemirror_mode": {
    "name": "ipython",
    "version": 3
   },
   "file_extension": ".py",
   "mimetype": "text/x-python",
   "name": "python",
   "nbconvert_exporter": "python",
   "pygments_lexer": "ipython3",
   "version": "3.7.5"
  }
 },
 "nbformat": 4,
 "nbformat_minor": 4
}
