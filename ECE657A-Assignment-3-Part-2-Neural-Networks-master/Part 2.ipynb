{
 "cells": [
  {
   "cell_type": "code",
   "execution_count": 1,
   "metadata": {
    "_cell_guid": "b1076dfc-b9ad-4769-8c92-a6c4dae69d19",
    "_uuid": "8f2839f25d086af736a60e9eeb907d3b93b6e0e5"
   },
   "outputs": [
    {
     "name": "stdout",
     "output_type": "stream",
     "text": [
      "/kaggle/input/ece657a-w20-asg3-part2/train.csv\n",
      "/kaggle/input/ece657a-w20-asg3-part2/testX.csv\n"
     ]
    }
   ],
   "source": [
    "# This Python 3 environment comes with many helpful analytics libraries installed\n",
    "# It is defined by the kaggle/python docker image: https://github.com/kaggle/docker-python\n",
    "# For example, here's several helpful packages to load in \n",
    "\n",
    "import numpy as np # linear algebra\n",
    "import pandas as pd # data processing, CSV file I/O (e.g. pd.read_csv)\n",
    "\n",
    "# Input data files are available in the \"../input/\" directory.\n",
    "# For example, running this (by clicking run or pressing Shift+Enter) will list all files under the input directory\n",
    "\n",
    "import os\n",
    "for dirname, _, filenames in os.walk('/kaggle/input'):\n",
    "    for filename in filenames:\n",
    "        print(os.path.join(dirname, filename))\n",
    "\n",
    "# Any results you write to the current directory are saved as output."
   ]
  },
  {
   "cell_type": "code",
   "execution_count": 23,
   "metadata": {
    "_cell_guid": "79c7e3d0-c299-4dcb-8224-4455121ee9b0",
    "_uuid": "d629ff2d2480ee46fbb7e2d37f6b5fab8052498a"
   },
   "outputs": [],
   "source": [
    "import tensorflow as tf\n",
    "from tensorflow import keras\n",
    "import numpy as np\n",
    "import pandas as pd\n",
    "import matplotlib.pyplot as plt\n",
    "from sklearn.model_selection import train_test_split\n",
    "import seaborn as sns\n",
    "# Deep Learning Libraries\n",
    "from keras.models import Sequential, load_model\n",
    "from keras.layers import Dense, Dropout, Flatten\n",
    "from keras.layers import Conv2D, MaxPooling2D, BatchNormalization\n",
    "from keras.optimizers import Adam,SGD,Adagrad,Adadelta,RMSprop\n",
    "from keras.preprocessing.image import ImageDataGenerator\n",
    "from keras.callbacks import ReduceLROnPlateau, LearningRateScheduler\n",
    "from keras.utils import to_categorical\n",
    "from keras.callbacks import EarlyStopping, ModelCheckpoint, History"
   ]
  },
  {
   "cell_type": "code",
   "execution_count": 3,
   "metadata": {},
   "outputs": [
    {
     "data": {
      "text/plain": [
       "(10000, 785)"
      ]
     },
     "execution_count": 3,
     "metadata": {},
     "output_type": "execute_result"
    }
   ],
   "source": [
    "train = pd.read_csv(\"/kaggle/input/ece657a-w20-asg3-part2/train.csv\")\n",
    "test = pd.read_csv('/kaggle/input/ece657a-w20-asg3-part2/testX.csv')\n",
    "#X = train.[:,2:]\n",
    "df = train.iloc[:,1:].copy()\n",
    "df_test = test.copy()\n",
    "df.head()\n",
    "df.shape\n",
    "df_test.shape"
   ]
  },
  {
   "cell_type": "code",
   "execution_count": 4,
   "metadata": {},
   "outputs": [
    {
     "name": "stdout",
     "output_type": "stream",
     "text": [
      "Train:  (60000, 785)\n",
      "Test:  (10000, 785)\n"
     ]
    },
    {
     "data": {
      "text/plain": [
       "4    12067\n",
       "2    11994\n",
       "1    11986\n",
       "3    11978\n",
       "0    11975\n",
       "Name: Label, dtype: int64"
      ]
     },
     "execution_count": 4,
     "metadata": {},
     "output_type": "execute_result"
    }
   ],
   "source": [
    "print('Train: ', df.shape)\n",
    "print('Test: ', df_test.shape)\n",
    "df['Label'].value_counts()"
   ]
  },
  {
   "cell_type": "code",
   "execution_count": 7,
   "metadata": {},
   "outputs": [
    {
     "name": "stderr",
     "output_type": "stream",
     "text": [
      "/opt/conda/lib/python3.6/site-packages/seaborn/categorical.py:3669: UserWarning: The `factorplot` function has been renamed to `catplot`. The original name will be removed in a future release. Please update your code. Note that the default `kind` in `factorplot` (`'point'`) has changed `'strip'` in `catplot`.\n",
      "  warnings.warn(msg)\n",
      "/opt/conda/lib/python3.6/site-packages/seaborn/categorical.py:3675: UserWarning: The `size` parameter has been renamed to `height`; please update your code.\n",
      "  warnings.warn(msg, UserWarning)\n"
     ]
    },
    {
     "data": {
      "text/plain": [
       "<seaborn.axisgrid.FacetGrid at 0x7f4bf1778b70>"
      ]
     },
     "execution_count": 7,
     "metadata": {},
     "output_type": "execute_result"
    },
    {
     "data": {
      "image/png": "[encoded data removed]",
      "text/plain": [
       "<Figure size 324x216 with 1 Axes>"
      ]
     },
     "metadata": {
      "needs_background": "light"
     },
     "output_type": "display_data"
    }
   ],
   "source": [
    "sns.factorplot(x='Label', data=train, kind='count', size=3, aspect= 1.5)"
   ]
  },
  {
   "cell_type": "code",
   "execution_count": 8,
   "metadata": {},
   "outputs": [
    {
     "data": {
      "text/plain": [
       "(10000,)"
      ]
     },
     "execution_count": 8,
     "metadata": {},
     "output_type": "execute_result"
    }
   ],
   "source": [
    "X = train.iloc[:,2:]\n",
    "Y = train.iloc[:,1] #train labels\n",
    "testX=test.iloc[:,1]\n",
    "x_train, x_test, y_train, y_test = train_test_split(X, Y, test_size=0.2, random_state=42)\n",
    "X.shape\n",
    "testX.shape"
   ]
  },
  {
   "cell_type": "code",
   "execution_count": 9,
   "metadata": {},
   "outputs": [
    {
     "data": {
      "text/html": [
       "<div>\n",
       "<style scoped>\n",
       "    .dataframe tbody tr th:only-of-type {\n",
       "        vertical-align: middle;\n",
       "    }\n",
       "\n",
       "    .dataframe tbody tr th {\n",
       "        vertical-align: top;\n",
       "    }\n",
       "\n",
       "    .dataframe thead th {\n",
       "        text-align: right;\n",
       "    }\n",
       "</style>\n",
       "<table border=\"1\" class=\"dataframe\">\n",
       "  <thead>\n",
       "    <tr style=\"text-align: right;\">\n",
       "      <th></th>\n",
       "      <th>Id</th>\n",
       "      <th>0</th>\n",
       "      <th>1</th>\n",
       "      <th>2</th>\n",
       "      <th>3</th>\n",
       "      <th>4</th>\n",
       "      <th>5</th>\n",
       "      <th>6</th>\n",
       "      <th>7</th>\n",
       "      <th>8</th>\n",
       "      <th>...</th>\n",
       "      <th>774</th>\n",
       "      <th>775</th>\n",
       "      <th>776</th>\n",
       "      <th>777</th>\n",
       "      <th>778</th>\n",
       "      <th>779</th>\n",
       "      <th>780</th>\n",
       "      <th>781</th>\n",
       "      <th>782</th>\n",
       "      <th>783</th>\n",
       "    </tr>\n",
       "  </thead>\n",
       "  <tbody>\n",
       "    <tr>\n",
       "      <th>0</th>\n",
       "      <td>0</td>\n",
       "      <td>0</td>\n",
       "      <td>0</td>\n",
       "      <td>0</td>\n",
       "      <td>0</td>\n",
       "      <td>0</td>\n",
       "      <td>0</td>\n",
       "      <td>0</td>\n",
       "      <td>0</td>\n",
       "      <td>0</td>\n",
       "      <td>...</td>\n",
       "      <td>0</td>\n",
       "      <td>0</td>\n",
       "      <td>0</td>\n",
       "      <td>0</td>\n",
       "      <td>0</td>\n",
       "      <td>0</td>\n",
       "      <td>0</td>\n",
       "      <td>0</td>\n",
       "      <td>0</td>\n",
       "      <td>0</td>\n",
       "    </tr>\n",
       "    <tr>\n",
       "      <th>1</th>\n",
       "      <td>1</td>\n",
       "      <td>0</td>\n",
       "      <td>0</td>\n",
       "      <td>0</td>\n",
       "      <td>0</td>\n",
       "      <td>0</td>\n",
       "      <td>1</td>\n",
       "      <td>0</td>\n",
       "      <td>0</td>\n",
       "      <td>0</td>\n",
       "      <td>...</td>\n",
       "      <td>119</td>\n",
       "      <td>114</td>\n",
       "      <td>130</td>\n",
       "      <td>76</td>\n",
       "      <td>0</td>\n",
       "      <td>0</td>\n",
       "      <td>0</td>\n",
       "      <td>0</td>\n",
       "      <td>0</td>\n",
       "      <td>0</td>\n",
       "    </tr>\n",
       "    <tr>\n",
       "      <th>2</th>\n",
       "      <td>2</td>\n",
       "      <td>0</td>\n",
       "      <td>0</td>\n",
       "      <td>0</td>\n",
       "      <td>0</td>\n",
       "      <td>0</td>\n",
       "      <td>0</td>\n",
       "      <td>0</td>\n",
       "      <td>0</td>\n",
       "      <td>0</td>\n",
       "      <td>...</td>\n",
       "      <td>0</td>\n",
       "      <td>0</td>\n",
       "      <td>1</td>\n",
       "      <td>0</td>\n",
       "      <td>0</td>\n",
       "      <td>0</td>\n",
       "      <td>0</td>\n",
       "      <td>0</td>\n",
       "      <td>0</td>\n",
       "      <td>0</td>\n",
       "    </tr>\n",
       "    <tr>\n",
       "      <th>3</th>\n",
       "      <td>3</td>\n",
       "      <td>0</td>\n",
       "      <td>0</td>\n",
       "      <td>0</td>\n",
       "      <td>0</td>\n",
       "      <td>0</td>\n",
       "      <td>0</td>\n",
       "      <td>0</td>\n",
       "      <td>0</td>\n",
       "      <td>33</td>\n",
       "      <td>...</td>\n",
       "      <td>0</td>\n",
       "      <td>0</td>\n",
       "      <td>0</td>\n",
       "      <td>0</td>\n",
       "      <td>0</td>\n",
       "      <td>0</td>\n",
       "      <td>0</td>\n",
       "      <td>0</td>\n",
       "      <td>0</td>\n",
       "      <td>0</td>\n",
       "    </tr>\n",
       "    <tr>\n",
       "      <th>4</th>\n",
       "      <td>4</td>\n",
       "      <td>0</td>\n",
       "      <td>0</td>\n",
       "      <td>0</td>\n",
       "      <td>0</td>\n",
       "      <td>0</td>\n",
       "      <td>0</td>\n",
       "      <td>0</td>\n",
       "      <td>0</td>\n",
       "      <td>0</td>\n",
       "      <td>...</td>\n",
       "      <td>0</td>\n",
       "      <td>0</td>\n",
       "      <td>0</td>\n",
       "      <td>0</td>\n",
       "      <td>0</td>\n",
       "      <td>0</td>\n",
       "      <td>0</td>\n",
       "      <td>0</td>\n",
       "      <td>0</td>\n",
       "      <td>0</td>\n",
       "    </tr>\n",
       "    <tr>\n",
       "      <th>...</th>\n",
       "      <td>...</td>\n",
       "      <td>...</td>\n",
       "      <td>...</td>\n",
       "      <td>...</td>\n",
       "      <td>...</td>\n",
       "      <td>...</td>\n",
       "      <td>...</td>\n",
       "      <td>...</td>\n",
       "      <td>...</td>\n",
       "      <td>...</td>\n",
       "      <td>...</td>\n",
       "      <td>...</td>\n",
       "      <td>...</td>\n",
       "      <td>...</td>\n",
       "      <td>...</td>\n",
       "      <td>...</td>\n",
       "      <td>...</td>\n",
       "      <td>...</td>\n",
       "      <td>...</td>\n",
       "      <td>...</td>\n",
       "      <td>...</td>\n",
       "    </tr>\n",
       "    <tr>\n",
       "      <th>9995</th>\n",
       "      <td>9995</td>\n",
       "      <td>0</td>\n",
       "      <td>0</td>\n",
       "      <td>0</td>\n",
       "      <td>0</td>\n",
       "      <td>0</td>\n",
       "      <td>0</td>\n",
       "      <td>0</td>\n",
       "      <td>0</td>\n",
       "      <td>0</td>\n",
       "      <td>...</td>\n",
       "      <td>0</td>\n",
       "      <td>0</td>\n",
       "      <td>0</td>\n",
       "      <td>0</td>\n",
       "      <td>0</td>\n",
       "      <td>0</td>\n",
       "      <td>0</td>\n",
       "      <td>0</td>\n",
       "      <td>0</td>\n",
       "      <td>0</td>\n",
       "    </tr>\n",
       "    <tr>\n",
       "      <th>9996</th>\n",
       "      <td>9996</td>\n",
       "      <td>0</td>\n",
       "      <td>0</td>\n",
       "      <td>0</td>\n",
       "      <td>0</td>\n",
       "      <td>0</td>\n",
       "      <td>0</td>\n",
       "      <td>0</td>\n",
       "      <td>0</td>\n",
       "      <td>0</td>\n",
       "      <td>...</td>\n",
       "      <td>0</td>\n",
       "      <td>0</td>\n",
       "      <td>0</td>\n",
       "      <td>0</td>\n",
       "      <td>0</td>\n",
       "      <td>0</td>\n",
       "      <td>0</td>\n",
       "      <td>0</td>\n",
       "      <td>0</td>\n",
       "      <td>0</td>\n",
       "    </tr>\n",
       "    <tr>\n",
       "      <th>9997</th>\n",
       "      <td>9997</td>\n",
       "      <td>0</td>\n",
       "      <td>0</td>\n",
       "      <td>0</td>\n",
       "      <td>0</td>\n",
       "      <td>0</td>\n",
       "      <td>0</td>\n",
       "      <td>0</td>\n",
       "      <td>1</td>\n",
       "      <td>0</td>\n",
       "      <td>...</td>\n",
       "      <td>169</td>\n",
       "      <td>131</td>\n",
       "      <td>0</td>\n",
       "      <td>0</td>\n",
       "      <td>0</td>\n",
       "      <td>0</td>\n",
       "      <td>0</td>\n",
       "      <td>0</td>\n",
       "      <td>0</td>\n",
       "      <td>0</td>\n",
       "    </tr>\n",
       "    <tr>\n",
       "      <th>9998</th>\n",
       "      <td>9998</td>\n",
       "      <td>0</td>\n",
       "      <td>0</td>\n",
       "      <td>0</td>\n",
       "      <td>1</td>\n",
       "      <td>0</td>\n",
       "      <td>0</td>\n",
       "      <td>0</td>\n",
       "      <td>0</td>\n",
       "      <td>24</td>\n",
       "      <td>...</td>\n",
       "      <td>85</td>\n",
       "      <td>104</td>\n",
       "      <td>138</td>\n",
       "      <td>51</td>\n",
       "      <td>0</td>\n",
       "      <td>3</td>\n",
       "      <td>0</td>\n",
       "      <td>0</td>\n",
       "      <td>0</td>\n",
       "      <td>0</td>\n",
       "    </tr>\n",
       "    <tr>\n",
       "      <th>9999</th>\n",
       "      <td>9999</td>\n",
       "      <td>0</td>\n",
       "      <td>0</td>\n",
       "      <td>0</td>\n",
       "      <td>0</td>\n",
       "      <td>1</td>\n",
       "      <td>0</td>\n",
       "      <td>0</td>\n",
       "      <td>15</td>\n",
       "      <td>77</td>\n",
       "      <td>...</td>\n",
       "      <td>2</td>\n",
       "      <td>1</td>\n",
       "      <td>0</td>\n",
       "      <td>0</td>\n",
       "      <td>76</td>\n",
       "      <td>47</td>\n",
       "      <td>0</td>\n",
       "      <td>0</td>\n",
       "      <td>0</td>\n",
       "      <td>0</td>\n",
       "    </tr>\n",
       "  </tbody>\n",
       "</table>\n",
       "<p>10000 rows × 785 columns</p>\n",
       "</div>"
      ],
      "text/plain": [
       "        Id  0  1  2  3  4  5  6   7   8  ...  774  775  776  777  778  779  \\\n",
       "0        0  0  0  0  0  0  0  0   0   0  ...    0    0    0    0    0    0   \n",
       "1        1  0  0  0  0  0  1  0   0   0  ...  119  114  130   76    0    0   \n",
       "2        2  0  0  0  0  0  0  0   0   0  ...    0    0    1    0    0    0   \n",
       "3        3  0  0  0  0  0  0  0   0  33  ...    0    0    0    0    0    0   \n",
       "4        4  0  0  0  0  0  0  0   0   0  ...    0    0    0    0    0    0   \n",
       "...    ... .. .. .. .. .. .. ..  ..  ..  ...  ...  ...  ...  ...  ...  ...   \n",
       "9995  9995  0  0  0  0  0  0  0   0   0  ...    0    0    0    0    0    0   \n",
       "9996  9996  0  0  0  0  0  0  0   0   0  ...    0    0    0    0    0    0   \n",
       "9997  9997  0  0  0  0  0  0  0   1   0  ...  169  131    0    0    0    0   \n",
       "9998  9998  0  0  0  1  0  0  0   0  24  ...   85  104  138   51    0    3   \n",
       "9999  9999  0  0  0  0  1  0  0  15  77  ...    2    1    0    0   76   47   \n",
       "\n",
       "      780  781  782  783  \n",
       "0       0    0    0    0  \n",
       "1       0    0    0    0  \n",
       "2       0    0    0    0  \n",
       "3       0    0    0    0  \n",
       "4       0    0    0    0  \n",
       "...   ...  ...  ...  ...  \n",
       "9995    0    0    0    0  \n",
       "9996    0    0    0    0  \n",
       "9997    0    0    0    0  \n",
       "9998    0    0    0    0  \n",
       "9999    0    0    0    0  \n",
       "\n",
       "[10000 rows x 785 columns]"
      ]
     },
     "execution_count": 9,
     "metadata": {},
     "output_type": "execute_result"
    }
   ],
   "source": [
    "df_test"
   ]
  },
  {
   "cell_type": "code",
   "execution_count": 10,
   "metadata": {},
   "outputs": [
    {
     "name": "stdout",
     "output_type": "stream",
     "text": [
      "(48000, 28, 28, 1)\n",
      "(60000, 784)\n"
     ]
    },
    {
     "data": {
      "text/plain": [
       "(10000, 28, 28, 1)"
      ]
     },
     "execution_count": 10,
     "metadata": {},
     "output_type": "execute_result"
    }
   ],
   "source": [
    "#reshape of data needed as various layers of cnn need l*b*no of channels\n",
    "#here -1 means  want numpy to figure it out\n",
    "\n",
    "x_train = x_train.values.reshape((-1, 28, 28, 1))\n",
    "x_test = x_test.values.reshape((-1, 28, 28, 1))\n",
    "print(x_train.shape) #(48000, 28, 28, 1)\n",
    "df_test.drop('Id', axis=1, inplace=True)\n",
    "df_test = df_test.values.reshape((-1, 28, 28, 1))\n",
    "print(X.shape) #(60000, 784)\n",
    "df_test.shape #(10000, 28, 28, 1)"
   ]
  },
  {
   "cell_type": "code",
   "execution_count": 15,
   "metadata": {},
   "outputs": [
    {
     "name": "stdout",
     "output_type": "stream",
     "text": [
      "(12000, 28, 28, 1)\n"
     ]
    },
    {
     "data": {
      "text/plain": [
       "(48000, 28, 28, 1)"
      ]
     },
     "execution_count": 15,
     "metadata": {},
     "output_type": "execute_result"
    }
   ],
   "source": [
    "# preprocessing the data\n",
    "x_train = x_train.astype(\"float32\")/255\n",
    "x_test = x_test.astype(\"float32\")/255\n",
    "df_test = df_test.astype(\"float32\")/255\n",
    "print(x_test.shape)\n",
    "x_train.shape"
   ]
  },
  {
   "cell_type": "code",
   "execution_count": 16,
   "metadata": {},
   "outputs": [
    {
     "data": {
      "text/plain": [
       "(10000, 28, 28, 1)"
      ]
     },
     "execution_count": 16,
     "metadata": {},
     "output_type": "execute_result"
    }
   ],
   "source": [
    "df_test.shape"
   ]
  },
  {
   "cell_type": "code",
   "execution_count": 18,
   "metadata": {},
   "outputs": [
    {
     "data": {
      "text/plain": [
       "(48000, 28, 28, 1)"
      ]
     },
     "execution_count": 18,
     "metadata": {},
     "output_type": "execute_result"
    }
   ],
   "source": [
    "x_train.shape"
   ]
  },
  {
   "cell_type": "markdown",
   "metadata": {},
   "source": [
    "# **CNN**"
   ]
  },
  {
   "cell_type": "code",
   "execution_count": 19,
   "metadata": {},
   "outputs": [
    {
     "name": "stderr",
     "output_type": "stream",
     "text": [
      "Using TensorFlow backend.\n"
     ]
    }
   ],
   "source": [
    "from keras.utils import to_categorical\n",
    "y_train = to_categorical(y_train)#, num_classes=5)\n",
    "y_test = to_categorical(y_test)#, num_classes=10)"
   ]
  },
  {
   "cell_type": "code",
   "execution_count": 21,
   "metadata": {},
   "outputs": [
    {
     "name": "stdout",
     "output_type": "stream",
     "text": [
      "(48000, 5)\n",
      "(12000, 5)\n"
     ]
    }
   ],
   "source": [
    "print(y_train.shape)\n",
    "print(y_test.shape)"
   ]
  },
  {
   "cell_type": "code",
   "execution_count": 22,
   "metadata": {},
   "outputs": [],
   "source": [
    "import time\n",
    "start_train = time.time()"
   ]
  },
  {
   "cell_type": "code",
   "execution_count": 24,
   "metadata": {},
   "outputs": [],
   "source": [
    "\n",
    "\n",
    "#modelcheckpoint = ModelCheckpoint(\"keras.model\", savebest_only=True, verbose=1)\n",
    "# used to save the best model in keras.model\n",
    "checkpointer = ModelCheckpoint(filepath=\"keras.model\", verbose=0, save_best_only=True)"
   ]
  },
  {
   "cell_type": "code",
   "execution_count": 25,
   "metadata": {},
   "outputs": [],
   "source": [
    "monitor = EarlyStopping(monitor='val_accuracy', min_delta=1e-3, patience=10, verbose=1, mode='auto',restore_best_weights = True)"
   ]
  },
  {
   "cell_type": "markdown",
   "metadata": {},
   "source": [
    "Model 1 (as mentioned in report)"
   ]
  },
  {
   "cell_type": "code",
   "execution_count": 26,
   "metadata": {},
   "outputs": [],
   "source": [
    "model = Sequential()\n",
    "model.add(Flatten(input_shape=(28,28,1)))\n",
    "model.add(Dense(256, activation='relu'))\n",
    "model.add(Dense(256, activation='relu'))\n",
    "model.add(Dense(256, activation='relu'))\n",
    "model.add(Dense(256, activation='relu'))\n",
    "model.add(Dense(256, activation='relu'))\n",
    "model.add(Dense(256, activation='relu'))\n",
    "model.add(Dense(5, activation='softmax'))\n"
   ]
  },
  {
   "cell_type": "code",
   "execution_count": 27,
   "metadata": {},
   "outputs": [
    {
     "name": "stdout",
     "output_type": "stream",
     "text": [
      "Model: \"sequential_1\"\n",
      "_________________________________________________________________\n",
      "Layer (type)                 Output Shape              Param #   \n",
      "=================================================================\n",
      "flatten_1 (Flatten)          (None, 784)               0         \n",
      "_________________________________________________________________\n",
      "dense_1 (Dense)              (None, 256)               200960    \n",
      "_________________________________________________________________\n",
      "dense_2 (Dense)              (None, 256)               65792     \n",
      "_________________________________________________________________\n",
      "dense_3 (Dense)              (None, 256)               65792     \n",
      "_________________________________________________________________\n",
      "dense_4 (Dense)              (None, 256)               65792     \n",
      "_________________________________________________________________\n",
      "dense_5 (Dense)              (None, 256)               65792     \n",
      "_________________________________________________________________\n",
      "dense_6 (Dense)              (None, 256)               65792     \n",
      "_________________________________________________________________\n",
      "dense_7 (Dense)              (None, 5)                 1285      \n",
      "=================================================================\n",
      "Total params: 531,205\n",
      "Trainable params: 531,205\n",
      "Non-trainable params: 0\n",
      "_________________________________________________________________\n"
     ]
    }
   ],
   "source": [
    "optimizer = Adam(lr=0.001, beta_1=0.9, beta_2=0.999 )\n",
    "# Compiling the model\n",
    "opt = keras.optimizers.RMSprop(lr=0.0001, decay=1e-6)\n",
    "model.compile(optimizer=\"adam\", loss=\"categorical_crossentropy\", metrics=[\"accuracy\"])\n",
    "model.summary()"
   ]
  },
  {
   "cell_type": "code",
   "execution_count": 28,
   "metadata": {},
   "outputs": [
    {
     "name": "stdout",
     "output_type": "stream",
     "text": [
      "Train on 48000 samples, validate on 12000 samples\n",
      "Epoch 1/50\n",
      "48000/48000 [==============================] - 12s 250us/step - loss: 0.6311 - accuracy: 0.7329 - val_loss: 0.5405 - val_accuracy: 0.7780\n",
      "Epoch 2/50\n",
      "48000/48000 [==============================] - 12s 240us/step - loss: 0.4471 - accuracy: 0.8195 - val_loss: 0.4612 - val_accuracy: 0.8071\n",
      "Epoch 3/50\n",
      "48000/48000 [==============================] - 12s 244us/step - loss: 0.3862 - accuracy: 0.8455 - val_loss: 0.3605 - val_accuracy: 0.8645\n",
      "Epoch 4/50\n",
      "48000/48000 [==============================] - 11s 240us/step - loss: 0.3564 - accuracy: 0.8579 - val_loss: 0.3367 - val_accuracy: 0.8615\n",
      "Epoch 5/50\n",
      "48000/48000 [==============================] - 11s 239us/step - loss: 0.3307 - accuracy: 0.8695 - val_loss: 0.3678 - val_accuracy: 0.8532\n",
      "Epoch 6/50\n",
      "48000/48000 [==============================] - 11s 235us/step - loss: 0.3111 - accuracy: 0.8753 - val_loss: 0.3218 - val_accuracy: 0.8755\n",
      "Epoch 7/50\n",
      "48000/48000 [==============================] - 11s 235us/step - loss: 0.2981 - accuracy: 0.8817 - val_loss: 0.3095 - val_accuracy: 0.8812\n",
      "Epoch 8/50\n",
      "48000/48000 [==============================] - 12s 242us/step - loss: 0.2827 - accuracy: 0.8886 - val_loss: 0.2964 - val_accuracy: 0.8841\n",
      "Epoch 9/50\n",
      "48000/48000 [==============================] - 12s 242us/step - loss: 0.2769 - accuracy: 0.8900 - val_loss: 0.3097 - val_accuracy: 0.8823\n",
      "Epoch 10/50\n",
      "48000/48000 [==============================] - 11s 238us/step - loss: 0.2632 - accuracy: 0.8954 - val_loss: 0.3441 - val_accuracy: 0.8652\n",
      "Epoch 11/50\n",
      "48000/48000 [==============================] - 11s 238us/step - loss: 0.2588 - accuracy: 0.8974 - val_loss: 0.2695 - val_accuracy: 0.8981\n",
      "Epoch 12/50\n",
      "48000/48000 [==============================] - 11s 238us/step - loss: 0.2521 - accuracy: 0.8989 - val_loss: 0.2947 - val_accuracy: 0.8912\n",
      "Epoch 13/50\n",
      "48000/48000 [==============================] - 12s 243us/step - loss: 0.2413 - accuracy: 0.9055 - val_loss: 0.3232 - val_accuracy: 0.8898\n",
      "Epoch 14/50\n",
      "48000/48000 [==============================] - 12s 245us/step - loss: 0.2393 - accuracy: 0.9067 - val_loss: 0.3022 - val_accuracy: 0.8918\n",
      "Epoch 15/50\n",
      "48000/48000 [==============================] - 12s 243us/step - loss: 0.2364 - accuracy: 0.9065 - val_loss: 0.2861 - val_accuracy: 0.8919\n",
      "Epoch 16/50\n",
      "48000/48000 [==============================] - 12s 242us/step - loss: 0.2241 - accuracy: 0.9119 - val_loss: 0.2860 - val_accuracy: 0.8925\n",
      "Epoch 17/50\n",
      "48000/48000 [==============================] - 11s 235us/step - loss: 0.2196 - accuracy: 0.9126 - val_loss: 0.2976 - val_accuracy: 0.8946\n",
      "Epoch 18/50\n",
      "48000/48000 [==============================] - 11s 238us/step - loss: 0.2176 - accuracy: 0.9130 - val_loss: 0.3331 - val_accuracy: 0.8743\n",
      "Epoch 19/50\n",
      "48000/48000 [==============================] - 12s 246us/step - loss: 0.2149 - accuracy: 0.9152 - val_loss: 0.2916 - val_accuracy: 0.8953\n",
      "Epoch 20/50\n",
      "48000/48000 [==============================] - 11s 238us/step - loss: 0.2130 - accuracy: 0.9169 - val_loss: 0.3348 - val_accuracy: 0.8791\n",
      "Epoch 21/50\n",
      "48000/48000 [==============================] - 12s 240us/step - loss: 0.2047 - accuracy: 0.9198 - val_loss: 0.3060 - val_accuracy: 0.8961\n",
      "Restoring model weights from the end of the best epoch\n",
      "Epoch 00021: early stopping\n"
     ]
    }
   ],
   "source": [
    "history= model.fit(x_train, y_train, validation_data=(x_test, y_test), epochs=50, batch_size=32,callbacks=[monitor,checkpointer])#Plan1\n",
    "#The number of epochs is the number of times the model will cycle through the data. The more epochs we run, the more the model will improve, up to a certain point.\n",
    "#After that point, the model will stop improving during each epoch."
   ]
  },
  {
   "cell_type": "code",
   "execution_count": 29,
   "metadata": {},
   "outputs": [
    {
     "name": "stdout",
     "output_type": "stream",
     "text": [
      "12000/12000 [==============================] - 1s 48us/step\n",
      "Loss: 0.2695\n",
      "Accuracy: 0.8981\n"
     ]
    }
   ],
   "source": [
    "y_pred_svc_pca = model.predict(df_test) #/testX\n",
    "abc=np.argmax(y_pred_svc_pca, axis=1)\n",
    "score = model.evaluate(x_test, y_test)\n",
    "print('Loss: {:.4f}'.format(score[0]))\n",
    "print('Accuracy: {:.4f}'.format(score[1]))"
   ]
  },
  {
   "cell_type": "code",
   "execution_count": 30,
   "metadata": {},
   "outputs": [
    {
     "name": "stdout",
     "output_type": "stream",
     "text": [
      "12000/12000 [==============================] - 1s 48us/step\n",
      "Loss: 0.2695\n",
      "Accuracy: 0.8981\n"
     ]
    }
   ],
   "source": [
    "y_pred_svc_pca = model.predict(df_test) #/testX\n",
    "abc=np.argmax(y_pred_svc_pca, axis=1)\n",
    "score = model.evaluate(x_test, y_test)\n",
    "print('Loss: {:.4f}'.format(score[0]))\n",
    "print('Accuracy: {:.4f}'.format(score[1]))"
   ]
  },
  {
   "cell_type": "markdown",
   "metadata": {},
   "source": [
    "Model 2 (as mentioned in report)"
   ]
  },
  {
   "cell_type": "code",
   "execution_count": 31,
   "metadata": {},
   "outputs": [],
   "source": [
    "# Building a ConvNet\n",
    "# can have multiple layers as per wanted but most start with Sequential and end with Dense\n",
    "\n",
    "#Sequential is the easiest way to build a model in Keras. It allows you to build a model layer by layer.\n",
    "# kernel size =3 means 3X3\n",
    "#ReLU, or Rectified Linear Activation. This activation function has been proven to work well in neural networks\n",
    "\n",
    "\n",
    "#64 in the first layer and 32 in the second layer are the number of nodes in each layer. This number can be adjusted to be higher or lower, \n",
    "#depending on the size of the dataset. In our case, 64 and 32 work well, so we will stick with this for now\n",
    "\n",
    "model = Sequential()\n",
    "model.add(Conv2D(filters=32, kernel_size=(3, 3), activation='relu', strides=1, padding='same', \n",
    "                 data_format='channels_last', input_shape=(28,28,1))) # # convolution layers that will deal with our input images, which are seen\n",
    "#as 2-dimensional matrices.\n",
    "\n",
    "model.add(BatchNormalization())\n",
    "\n",
    "model.add(Conv2D(filters=32, kernel_size=(3, 3), activation='relu', strides=1, padding='same', \n",
    "                 data_format='channels_last'))\n",
    "model.add(BatchNormalization())\n",
    "model.add(Dropout(0.25))\n",
    "\n",
    "model.add(Conv2D(filters=64, kernel_size=(3, 3), activation='relu', strides=1, padding='same', \n",
    "                 data_format='channels_last'))\n",
    "model.add(MaxPooling2D(pool_size=(2, 2)))\n",
    "model.add(Dropout(0.25))\n",
    "    \n",
    "    \n",
    "model.add(Conv2D(filters=128, kernel_size=(3, 3), activation='relu', strides=1, padding='same', \n",
    "                 data_format='channels_last'))\n",
    "model.add(BatchNormalization())\n",
    "model.add(Dropout(0.25))\n",
    "\n",
    "model.add(Flatten())\n",
    "model.add(Dense(512, activation='relu'))\n",
    "model.add(BatchNormalization())\n",
    "model.add(Dropout(0.5))\n",
    "model.add(Dense(128, activation='relu'))\n",
    "model.add(BatchNormalization())\n",
    "model.add(Dropout(0.5))\n",
    "model.add(Dense(5, activation='softmax')) # 5 is the num of classes\n",
    "\n",
    "#Dense’ is the layer type we will use in for our output layer. Dense is a standard layer type that is used in many cases for neural networks.\n",
    "\n",
    "#Softmax makes the output sum up to 1 so the output can be interpreted as probabilities. The model will then make its prediction based on which option has the highest probability.\n"
   ]
  },
  {
   "cell_type": "code",
   "execution_count": 32,
   "metadata": {},
   "outputs": [],
   "source": [
    "\n",
    "optimizer = Adam(lr=0.001, beta_1=0.9, beta_2=0.999 )\n",
    "model.compile(optimizer=\"adam\", loss=\"categorical_crossentropy\", metrics=[\"accuracy\"])"
   ]
  },
  {
   "cell_type": "code",
   "execution_count": 33,
   "metadata": {},
   "outputs": [],
   "source": [
    "reduce_lr = LearningRateScheduler(lambda x: 1e-3 * 0.9 ** x)"
   ]
  },
  {
   "cell_type": "code",
   "execution_count": 34,
   "metadata": {},
   "outputs": [
    {
     "name": "stdout",
     "output_type": "stream",
     "text": [
      "Train on 48000 samples, validate on 12000 samples\n",
      "Epoch 1/50\n",
      "48000/48000 [==============================] - 454s 9ms/step - loss: 0.6962 - accuracy: 0.7237 - val_loss: 0.4226 - val_accuracy: 0.8292\n",
      "Epoch 2/50\n",
      "48000/48000 [==============================] - 465s 10ms/step - loss: 0.5311 - accuracy: 0.7879 - val_loss: 0.5911 - val_accuracy: 0.7398\n",
      "Epoch 3/50\n",
      "48000/48000 [==============================] - 449s 9ms/step - loss: 0.4851 - accuracy: 0.8049 - val_loss: 0.4666 - val_accuracy: 0.7973\n",
      "Epoch 4/50\n",
      "48000/48000 [==============================] - 455s 9ms/step - loss: 0.4464 - accuracy: 0.8236 - val_loss: 0.3982 - val_accuracy: 0.8272\n",
      "Epoch 5/50\n",
      "48000/48000 [==============================] - 448s 9ms/step - loss: 0.4140 - accuracy: 0.8346 - val_loss: 0.3389 - val_accuracy: 0.8617\n",
      "Epoch 6/50\n",
      "48000/48000 [==============================] - 457s 10ms/step - loss: 0.3878 - accuracy: 0.8464 - val_loss: 0.3031 - val_accuracy: 0.8788\n",
      "Epoch 7/50\n",
      "48000/48000 [==============================] - 461s 10ms/step - loss: 0.3615 - accuracy: 0.8571 - val_loss: 0.2948 - val_accuracy: 0.8818\n",
      "Epoch 8/50\n",
      "48000/48000 [==============================] - 491s 10ms/step - loss: 0.3335 - accuracy: 0.8678 - val_loss: 0.3264 - val_accuracy: 0.8617\n",
      "Epoch 9/50\n",
      "48000/48000 [==============================] - 454s 9ms/step - loss: 0.3166 - accuracy: 0.8758 - val_loss: 0.3116 - val_accuracy: 0.8727\n",
      "Epoch 10/50\n",
      "48000/48000 [==============================] - 472s 10ms/step - loss: 0.3027 - accuracy: 0.8818 - val_loss: 0.2744 - val_accuracy: 0.8852\n",
      "Epoch 11/50\n",
      "48000/48000 [==============================] - 454s 9ms/step - loss: 0.2918 - accuracy: 0.8866 - val_loss: 0.2810 - val_accuracy: 0.8853\n",
      "Epoch 12/50\n",
      "48000/48000 [==============================] - 459s 10ms/step - loss: 0.2712 - accuracy: 0.8935 - val_loss: 0.2650 - val_accuracy: 0.8955\n",
      "Epoch 13/50\n",
      "48000/48000 [==============================] - 456s 10ms/step - loss: 0.2608 - accuracy: 0.8987 - val_loss: 0.2614 - val_accuracy: 0.8949\n",
      "Epoch 14/50\n",
      "48000/48000 [==============================] - 466s 10ms/step - loss: 0.2531 - accuracy: 0.9018 - val_loss: 0.2890 - val_accuracy: 0.8858\n",
      "Epoch 15/50\n",
      "48000/48000 [==============================] - 454s 9ms/step - loss: 0.2420 - accuracy: 0.9054 - val_loss: 0.2568 - val_accuracy: 0.8962\n",
      "Epoch 16/50\n",
      "48000/48000 [==============================] - 483s 10ms/step - loss: 0.2253 - accuracy: 0.9133 - val_loss: 0.2709 - val_accuracy: 0.8941\n",
      "Epoch 17/50\n",
      "48000/48000 [==============================] - 475s 10ms/step - loss: 0.2234 - accuracy: 0.9158 - val_loss: 0.3930 - val_accuracy: 0.8462\n",
      "Epoch 18/50\n",
      "48000/48000 [==============================] - 458s 10ms/step - loss: 0.2082 - accuracy: 0.9206 - val_loss: 0.2715 - val_accuracy: 0.8949\n",
      "Epoch 19/50\n",
      "48000/48000 [==============================] - 463s 10ms/step - loss: 0.2071 - accuracy: 0.9210 - val_loss: 0.3138 - val_accuracy: 0.8806\n",
      "Epoch 20/50\n",
      "48000/48000 [==============================] - 456s 9ms/step - loss: 0.1955 - accuracy: 0.9250 - val_loss: 0.3084 - val_accuracy: 0.8861\n",
      "Epoch 21/50\n",
      "48000/48000 [==============================] - 453s 9ms/step - loss: 0.1914 - accuracy: 0.9279 - val_loss: 0.2672 - val_accuracy: 0.8944\n",
      "Epoch 22/50\n",
      "48000/48000 [==============================] - 452s 9ms/step - loss: 0.1779 - accuracy: 0.9322 - val_loss: 0.2849 - val_accuracy: 0.8887\n",
      "Restoring model weights from the end of the best epoch\n",
      "Epoch 00022: early stopping\n"
     ]
    }
   ],
   "source": [
    "start_time = time.time()\n",
    "\n",
    "history = model.fit(x_train, y_train,\n",
    "                     validation_data=(x_test, y_test),\n",
    "                     epochs=50,#25\n",
    "                     batch_size=32, callbacks=[monitor,checkpointer],#64\n",
    "                     verbose=1)\n",
    "training_time = time.time() - start_time"
   ]
  },
  {
   "cell_type": "code",
   "execution_count": 35,
   "metadata": {},
   "outputs": [
    {
     "name": "stdout",
     "output_type": "stream",
     "text": [
      "Time taken for training is  11771.979796409607\n"
     ]
    }
   ],
   "source": [
    "import time\n",
    "endtrain = time.time()\n",
    "print('Time taken for training is ',(endtrain-start_train))\n"
   ]
  },
  {
   "cell_type": "code",
   "execution_count": 36,
   "metadata": {},
   "outputs": [
    {
     "name": "stdout",
     "output_type": "stream",
     "text": [
      "3\n",
      "Your submission was successfully saved!\n"
     ]
    },
    {
     "data": {
      "text/html": [
       "<div>\n",
       "<style scoped>\n",
       "    .dataframe tbody tr th:only-of-type {\n",
       "        vertical-align: middle;\n",
       "    }\n",
       "\n",
       "    .dataframe tbody tr th {\n",
       "        vertical-align: top;\n",
       "    }\n",
       "\n",
       "    .dataframe thead th {\n",
       "        text-align: right;\n",
       "    }\n",
       "</style>\n",
       "<table border=\"1\" class=\"dataframe\">\n",
       "  <thead>\n",
       "    <tr style=\"text-align: right;\">\n",
       "      <th></th>\n",
       "      <th>Id</th>\n",
       "      <th>Label</th>\n",
       "    </tr>\n",
       "  </thead>\n",
       "  <tbody>\n",
       "    <tr>\n",
       "      <th>0</th>\n",
       "      <td>0</td>\n",
       "      <td>3</td>\n",
       "    </tr>\n",
       "    <tr>\n",
       "      <th>1</th>\n",
       "      <td>1</td>\n",
       "      <td>4</td>\n",
       "    </tr>\n",
       "    <tr>\n",
       "      <th>2</th>\n",
       "      <td>2</td>\n",
       "      <td>0</td>\n",
       "    </tr>\n",
       "    <tr>\n",
       "      <th>3</th>\n",
       "      <td>3</td>\n",
       "      <td>1</td>\n",
       "    </tr>\n",
       "    <tr>\n",
       "      <th>4</th>\n",
       "      <td>4</td>\n",
       "      <td>1</td>\n",
       "    </tr>\n",
       "    <tr>\n",
       "      <th>...</th>\n",
       "      <td>...</td>\n",
       "      <td>...</td>\n",
       "    </tr>\n",
       "    <tr>\n",
       "      <th>9995</th>\n",
       "      <td>9995</td>\n",
       "      <td>1</td>\n",
       "    </tr>\n",
       "    <tr>\n",
       "      <th>9996</th>\n",
       "      <td>9996</td>\n",
       "      <td>1</td>\n",
       "    </tr>\n",
       "    <tr>\n",
       "      <th>9997</th>\n",
       "      <td>9997</td>\n",
       "      <td>3</td>\n",
       "    </tr>\n",
       "    <tr>\n",
       "      <th>9998</th>\n",
       "      <td>9998</td>\n",
       "      <td>1</td>\n",
       "    </tr>\n",
       "    <tr>\n",
       "      <th>9999</th>\n",
       "      <td>9999</td>\n",
       "      <td>2</td>\n",
       "    </tr>\n",
       "  </tbody>\n",
       "</table>\n",
       "<p>10000 rows × 2 columns</p>\n",
       "</div>"
      ],
      "text/plain": [
       "        Id  Label\n",
       "0        0      3\n",
       "1        1      4\n",
       "2        2      0\n",
       "3        3      1\n",
       "4        4      1\n",
       "...    ...    ...\n",
       "9995  9995      1\n",
       "9996  9996      1\n",
       "9997  9997      3\n",
       "9998  9998      1\n",
       "9999  9999      2\n",
       "\n",
       "[10000 rows x 2 columns]"
      ]
     },
     "execution_count": 36,
     "metadata": {},
     "output_type": "execute_result"
    }
   ],
   "source": [
    "start_test = time.time() # make predictions and save in csv file\n",
    "y_pred_svc_pca = model.predict(df_test) #/testX\n",
    "abc=np.argmax(y_pred_svc_pca, axis=1)\n",
    "print(np.argmax(y_pred_svc_pca[5]))\n",
    "#print(Y_pred.shape)\n",
    "output = pd.DataFrame({'Id': test.Id, 'Label': abc})\n",
    "output.to_csv('my_submission7.csv', index=False)\n",
    "print(\"Your submission was successfully saved!\")\n",
    "output"
   ]
  },
  {
   "cell_type": "code",
   "execution_count": 37,
   "metadata": {},
   "outputs": [
    {
     "name": "stdout",
     "output_type": "stream",
     "text": [
      "12000/12000 [==============================] - 16s 1ms/step\n",
      "Loss: 0.2650\n",
      "Accuracy: 0.8955\n",
      "Time taken for testing is  50.9184091091156\n"
     ]
    }
   ],
   "source": [
    "# accuracy of test set\n",
    "score = model.evaluate(x_test, y_test)\n",
    "\n",
    "print('Loss: {:.4f}'.format(score[0]))\n",
    "print('Accuracy: {:.4f}'.format(score[1]))\n",
    "end_test = time.time()\n",
    "print('Time taken for testing is ',(end_test-start_test))"
   ]
  },
  {
   "cell_type": "code",
   "execution_count": 38,
   "metadata": {},
   "outputs": [
    {
     "name": "stdout",
     "output_type": "stream",
     "text": [
      "-----------------Convolutional Neural Network Report---------------\n",
      "F1 score: 0.8949564397717213\n",
      "Accuracy score: 0.8955\n",
      "Confusion matrix: \n",
      " [[2312   64    3    0    0]\n",
      " [ 154 2154   97   18    1]\n",
      " [  21  210 1973  129   31]\n",
      " [   0   31  200 1994  142]\n",
      " [   3    6   26  118 2313]]\n",
      "Specificity :  0.9332755632582322\n",
      "Sensitivity is 0.8955\n",
      "Recall is 0.8955\n",
      "Precision score is 0.8955\n",
      "MSE 0.14541666666666667\n",
      "MAE 0.11725\n"
     ]
    }
   ],
   "source": [
    "from sklearn import metrics\n",
    "\n",
    "cnn_pred_mnist = model.predict(x_test)\n",
    "cnn_pred_mnist = np.argmax(cnn_pred_mnist,axis=1)\n",
    "y_true = np.argmax(y_test,axis=1)\n",
    "\n",
    "cnn_f1_mnist = metrics.f1_score(y_true, cnn_pred_mnist, average= \"weighted\")\n",
    "cnn_accuracy_mnist = metrics.accuracy_score(y_true, cnn_pred_mnist)\n",
    "cnn_cm_mnist = metrics.confusion_matrix(y_true, cnn_pred_mnist)\n",
    "print(\"-----------------Convolutional Neural Network Report---------------\")\n",
    "print(\"F1 score: {}\".format(cnn_f1_mnist))\n",
    "print(\"Accuracy score: {}\".format(cnn_accuracy_mnist))\n",
    "print(\"Confusion matrix: \\n\", cnn_cm_mnist)\n",
    "\n",
    "\n",
    "\n",
    "specificity1 = cnn_cm_mnist[1,1]/(cnn_cm_mnist[1,0]+cnn_cm_mnist[1,1])\n",
    "print('Specificity : ', specificity1)\n",
    "from sklearn.metrics import recall_score\n",
    "print('Sensitivity is',recall_score(y_true, cnn_pred_mnist,average='micro'))\n",
    "print('Recall is',recall_score(y_true, cnn_pred_mnist,average='micro'))\n",
    "\n",
    "from sklearn.metrics import precision_score\n",
    "print('Precision score is',precision_score(y_true, cnn_pred_mnist,average='micro'))\n",
    "from sklearn.metrics import mean_squared_error\n",
    "print('MSE',mean_squared_error(y_true, cnn_pred_mnist))\n",
    "from sklearn.metrics import mean_absolute_error\n",
    "print('MAE',mean_absolute_error(y_true, cnn_pred_mnist))\n"
   ]
  },
  {
   "cell_type": "code",
   "execution_count": 39,
   "metadata": {},
   "outputs": [
    {
     "data": {
      "image/png": "[encoded data removed]",
      "text/plain": [
       "<Figure size 432x288 with 1 Axes>"
      ]
     },
     "metadata": {
      "needs_background": "light"
     },
     "output_type": "display_data"
    }
   ],
   "source": [
    "from keras.callbacks import History\n",
    "#  Visualize loss history / model loss\n",
    "plt.plot(history.history['loss'])\n",
    "plt.plot(history.history['val_loss'])\n",
    "plt.title(\"Training Epoch vs. Loss\")\n",
    "plt.xlabel('Epochs')\n",
    "plt.ylabel('Loss')\n",
    "plt.legend(['Train', 'Test'])\n",
    "plt.show()"
   ]
  },
  {
   "cell_type": "code",
   "execution_count": 40,
   "metadata": {},
   "outputs": [
    {
     "data": {
      "image/png": "[encoded data removed]",
      "text/plain": [
       "<Figure size 432x288 with 1 Axes>"
      ]
     },
     "metadata": {
      "needs_background": "light"
     },
     "output_type": "display_data"
    }
   ],
   "source": [
    "plt.plot(history.history['accuracy'])\n",
    "plt.plot(history.history['val_accuracy'])\n",
    "plt.title(\"Model Accuracy\")\n",
    "plt.xlabel('Epochs')\n",
    "plt.ylabel('Accuracy')\n",
    "plt.legend(['Train', 'Test'])\n",
    "plt.show()"
   ]
  },
  {
   "cell_type": "markdown",
   "metadata": {},
   "source": [
    "This completes the CNN architecture"
   ]
  }
 ],
 "metadata": {
  "kernelspec": {
   "display_name": "Python 3",
   "language": "python",
   "name": "python3"
  },
  "language_info": {
   "codemirror_mode": {
    "name": "ipython",
    "version": 3
   },
   "file_extension": ".py",
   "mimetype": "text/x-python",
   "name": "python",
   "nbconvert_exporter": "python",
   "pygments_lexer": "ipython3",
   "version": "3.7.5"
  }
 },
 "nbformat": 4,
 "nbformat_minor": 4
}
